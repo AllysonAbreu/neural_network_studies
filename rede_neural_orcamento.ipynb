{
 "cells": [
  {
   "cell_type": "markdown",
   "metadata": {},
   "source": [
    "# Imports necessários"
   ]
  },
  {
   "cell_type": "code",
   "execution_count": 1,
   "metadata": {},
   "outputs": [],
   "source": [
    "import pandas as pd\n",
    "import numpy as np\n",
    "import datetime as dt\n",
    "import matplotlib.pyplot as plt\n",
    "from sklearn.preprocessing import MinMaxScaler\n",
    "import tensorflow as tf"
   ]
  },
  {
   "cell_type": "markdown",
   "metadata": {},
   "source": [
    "# Carga do modelo pré-treinado"
   ]
  },
  {
   "cell_type": "code",
   "execution_count": 2,
   "metadata": {},
   "outputs": [],
   "source": [
    "model_lstm = tf.keras.models.load_model('receitas_2013_2022')"
   ]
  },
  {
   "cell_type": "markdown",
   "metadata": {},
   "source": [
    "# Carga nos dados"
   ]
  },
  {
   "cell_type": "markdown",
   "metadata": {},
   "source": [
    "## Receitas"
   ]
  },
  {
   "cell_type": "code",
   "execution_count": 3,
   "metadata": {},
   "outputs": [
    {
     "data": {
      "text/html": [
       "<div>\n",
       "<style scoped>\n",
       "    .dataframe tbody tr th:only-of-type {\n",
       "        vertical-align: middle;\n",
       "    }\n",
       "\n",
       "    .dataframe tbody tr th {\n",
       "        vertical-align: top;\n",
       "    }\n",
       "\n",
       "    .dataframe thead th {\n",
       "        text-align: right;\n",
       "    }\n",
       "</style>\n",
       "<table border=\"1\" class=\"dataframe\">\n",
       "  <thead>\n",
       "    <tr style=\"text-align: right;\">\n",
       "      <th></th>\n",
       "      <th>COD_RECEITA</th>\n",
       "      <th>DATA</th>\n",
       "      <th>COD_CONTRIBUINTE</th>\n",
       "      <th>VALOR_ARRECADADO</th>\n",
       "      <th>FONTE_DADOS</th>\n",
       "    </tr>\n",
       "  </thead>\n",
       "  <tbody>\n",
       "    <tr>\n",
       "      <th>0</th>\n",
       "      <td>1722010101</td>\n",
       "      <td>2013-01-03</td>\n",
       "      <td>886cd0eabf5a18</td>\n",
       "      <td>185560.68</td>\n",
       "      <td>prefeitura municipal</td>\n",
       "    </tr>\n",
       "    <tr>\n",
       "      <th>1</th>\n",
       "      <td>1722010101</td>\n",
       "      <td>2013-01-04</td>\n",
       "      <td>886cd0eabf5a18</td>\n",
       "      <td>8081.80</td>\n",
       "      <td>prefeitura municipal</td>\n",
       "    </tr>\n",
       "    <tr>\n",
       "      <th>2</th>\n",
       "      <td>1722010101</td>\n",
       "      <td>2013-01-07</td>\n",
       "      <td>886cd0eabf5a18</td>\n",
       "      <td>4231.39</td>\n",
       "      <td>prefeitura municipal</td>\n",
       "    </tr>\n",
       "    <tr>\n",
       "      <th>3</th>\n",
       "      <td>1722010101</td>\n",
       "      <td>2013-01-08</td>\n",
       "      <td>886cd0eabf5a18</td>\n",
       "      <td>10536.53</td>\n",
       "      <td>prefeitura municipal</td>\n",
       "    </tr>\n",
       "    <tr>\n",
       "      <th>4</th>\n",
       "      <td>1722010101</td>\n",
       "      <td>2013-01-15</td>\n",
       "      <td>886cd0eabf5a18</td>\n",
       "      <td>103118.27</td>\n",
       "      <td>prefeitura municipal</td>\n",
       "    </tr>\n",
       "  </tbody>\n",
       "</table>\n",
       "</div>"
      ],
      "text/plain": [
       "   COD_RECEITA        DATA COD_CONTRIBUINTE  VALOR_ARRECADADO  \\\n",
       "0   1722010101  2013-01-03   886cd0eabf5a18         185560.68   \n",
       "1   1722010101  2013-01-04   886cd0eabf5a18           8081.80   \n",
       "2   1722010101  2013-01-07   886cd0eabf5a18           4231.39   \n",
       "3   1722010101  2013-01-08   886cd0eabf5a18          10536.53   \n",
       "4   1722010101  2013-01-15   886cd0eabf5a18         103118.27   \n",
       "\n",
       "            FONTE_DADOS  \n",
       "0  prefeitura municipal  \n",
       "1  prefeitura municipal  \n",
       "2  prefeitura municipal  \n",
       "3  prefeitura municipal  \n",
       "4  prefeitura municipal  "
      ]
     },
     "execution_count": 3,
     "metadata": {},
     "output_type": "execute_result"
    }
   ],
   "source": [
    "dados_receitas = pd.read_csv('data/dados_receitas.csv', sep=';')\n",
    "dados_receitas.head()"
   ]
  },
  {
   "cell_type": "markdown",
   "metadata": {},
   "source": [
    "## Despesas"
   ]
  },
  {
   "cell_type": "code",
   "execution_count": 4,
   "metadata": {},
   "outputs": [
    {
     "data": {
      "text/html": [
       "<div>\n",
       "<style scoped>\n",
       "    .dataframe tbody tr th:only-of-type {\n",
       "        vertical-align: middle;\n",
       "    }\n",
       "\n",
       "    .dataframe tbody tr th {\n",
       "        vertical-align: top;\n",
       "    }\n",
       "\n",
       "    .dataframe thead th {\n",
       "        text-align: right;\n",
       "    }\n",
       "</style>\n",
       "<table border=\"1\" class=\"dataframe\">\n",
       "  <thead>\n",
       "    <tr style=\"text-align: right;\">\n",
       "      <th></th>\n",
       "      <th>DATA_FATO</th>\n",
       "      <th>FONTE_RECURSO</th>\n",
       "      <th>ORGAO_INTERNO</th>\n",
       "      <th>ORGAO_VINCULADO</th>\n",
       "      <th>ELEMENTO</th>\n",
       "      <th>SUBELEMENTO</th>\n",
       "      <th>FUNCAO</th>\n",
       "      <th>SUBFUNCAO</th>\n",
       "      <th>NATUREZA</th>\n",
       "      <th>VALOR_FIXADO</th>\n",
       "      <th>VALOR_EMPENHADO</th>\n",
       "      <th>VALOR_LIQUIDADO</th>\n",
       "      <th>VALOR_PAGO</th>\n",
       "      <th>SALDO</th>\n",
       "      <th>CODIGO</th>\n",
       "    </tr>\n",
       "  </thead>\n",
       "  <tbody>\n",
       "    <tr>\n",
       "      <th>0</th>\n",
       "      <td>2013-12-31</td>\n",
       "      <td>recursos ordinarios</td>\n",
       "      <td>secretaria municipal de infra estrutura</td>\n",
       "      <td>prefeitura municipal</td>\n",
       "      <td>39</td>\n",
       "      <td>2044</td>\n",
       "      <td>4</td>\n",
       "      <td>122</td>\n",
       "      <td>3</td>\n",
       "      <td>2911694.0</td>\n",
       "      <td>5120.0</td>\n",
       "      <td>5120.0</td>\n",
       "      <td>0.0</td>\n",
       "      <td>5120.0</td>\n",
       "      <td>80e7979ff78e14</td>\n",
       "    </tr>\n",
       "    <tr>\n",
       "      <th>1</th>\n",
       "      <td>2013-12-31</td>\n",
       "      <td>recursos ordinarios</td>\n",
       "      <td>secretaria municipal de educacao</td>\n",
       "      <td>prefeitura municipal</td>\n",
       "      <td>36</td>\n",
       "      <td>2029</td>\n",
       "      <td>13</td>\n",
       "      <td>392</td>\n",
       "      <td>3</td>\n",
       "      <td>107000.0</td>\n",
       "      <td>6950.0</td>\n",
       "      <td>6950.0</td>\n",
       "      <td>0.0</td>\n",
       "      <td>6950.0</td>\n",
       "      <td>4be681d5c1e352</td>\n",
       "    </tr>\n",
       "    <tr>\n",
       "      <th>2</th>\n",
       "      <td>2013-12-31</td>\n",
       "      <td>recursos ordinarios</td>\n",
       "      <td>secretaria municipal de educacao</td>\n",
       "      <td>prefeitura municipal</td>\n",
       "      <td>36</td>\n",
       "      <td>2029</td>\n",
       "      <td>13</td>\n",
       "      <td>392</td>\n",
       "      <td>3</td>\n",
       "      <td>107000.0</td>\n",
       "      <td>800.0</td>\n",
       "      <td>800.0</td>\n",
       "      <td>0.0</td>\n",
       "      <td>800.0</td>\n",
       "      <td>8ff22c743e712e</td>\n",
       "    </tr>\n",
       "    <tr>\n",
       "      <th>3</th>\n",
       "      <td>2013-12-31</td>\n",
       "      <td>recursos ordinarios</td>\n",
       "      <td>secretaria municipal de educacao</td>\n",
       "      <td>prefeitura municipal</td>\n",
       "      <td>36</td>\n",
       "      <td>2029</td>\n",
       "      <td>13</td>\n",
       "      <td>392</td>\n",
       "      <td>3</td>\n",
       "      <td>107000.0</td>\n",
       "      <td>400.0</td>\n",
       "      <td>400.0</td>\n",
       "      <td>0.0</td>\n",
       "      <td>400.0</td>\n",
       "      <td>1db102414906f0</td>\n",
       "    </tr>\n",
       "    <tr>\n",
       "      <th>4</th>\n",
       "      <td>2013-12-31</td>\n",
       "      <td>recursos ordinarios</td>\n",
       "      <td>secretaria municipal de educacao</td>\n",
       "      <td>prefeitura municipal</td>\n",
       "      <td>36</td>\n",
       "      <td>2029</td>\n",
       "      <td>13</td>\n",
       "      <td>392</td>\n",
       "      <td>3</td>\n",
       "      <td>107000.0</td>\n",
       "      <td>600.0</td>\n",
       "      <td>600.0</td>\n",
       "      <td>0.0</td>\n",
       "      <td>600.0</td>\n",
       "      <td>5125ea1b50db6d</td>\n",
       "    </tr>\n",
       "  </tbody>\n",
       "</table>\n",
       "</div>"
      ],
      "text/plain": [
       "    DATA_FATO        FONTE_RECURSO                            ORGAO_INTERNO  \\\n",
       "0  2013-12-31  recursos ordinarios  secretaria municipal de infra estrutura   \n",
       "1  2013-12-31  recursos ordinarios         secretaria municipal de educacao   \n",
       "2  2013-12-31  recursos ordinarios         secretaria municipal de educacao   \n",
       "3  2013-12-31  recursos ordinarios         secretaria municipal de educacao   \n",
       "4  2013-12-31  recursos ordinarios         secretaria municipal de educacao   \n",
       "\n",
       "        ORGAO_VINCULADO  ELEMENTO  SUBELEMENTO  FUNCAO  SUBFUNCAO  NATUREZA  \\\n",
       "0  prefeitura municipal        39         2044       4        122         3   \n",
       "1  prefeitura municipal        36         2029      13        392         3   \n",
       "2  prefeitura municipal        36         2029      13        392         3   \n",
       "3  prefeitura municipal        36         2029      13        392         3   \n",
       "4  prefeitura municipal        36         2029      13        392         3   \n",
       "\n",
       "   VALOR_FIXADO  VALOR_EMPENHADO  VALOR_LIQUIDADO  VALOR_PAGO   SALDO  \\\n",
       "0     2911694.0           5120.0           5120.0         0.0  5120.0   \n",
       "1      107000.0           6950.0           6950.0         0.0  6950.0   \n",
       "2      107000.0            800.0            800.0         0.0   800.0   \n",
       "3      107000.0            400.0            400.0         0.0   400.0   \n",
       "4      107000.0            600.0            600.0         0.0   600.0   \n",
       "\n",
       "           CODIGO  \n",
       "0  80e7979ff78e14  \n",
       "1  4be681d5c1e352  \n",
       "2  8ff22c743e712e  \n",
       "3  1db102414906f0  \n",
       "4  5125ea1b50db6d  "
      ]
     },
     "execution_count": 4,
     "metadata": {},
     "output_type": "execute_result"
    }
   ],
   "source": [
    "dados_despesas = pd.read_csv('data/dados_despesas.csv', sep=';')\n",
    "dados_despesas.head()"
   ]
  },
  {
   "cell_type": "markdown",
   "metadata": {},
   "source": [
    "# Data engineering"
   ]
  },
  {
   "cell_type": "markdown",
   "metadata": {},
   "source": [
    "## Receitas"
   ]
  },
  {
   "cell_type": "code",
   "execution_count": 5,
   "metadata": {},
   "outputs": [],
   "source": [
    "# Converter a coluna 'DATA' para o tipo datetime\n",
    "dados_receitas['DATA'] = pd.to_datetime(dados_receitas['DATA'])\n",
    "\n",
    "# Extrair o ano, mês e dia da coluna 'DATA' como novas features\n",
    "dados_receitas['ANO'] = dados_receitas['DATA'].dt.year"
   ]
  },
  {
   "cell_type": "code",
   "execution_count": 6,
   "metadata": {},
   "outputs": [
    {
     "name": "stdout",
     "output_type": "stream",
     "text": [
      "Q1: 51.23\n",
      "Q3: 1579.25\n",
      "IQR: 1528.02\n",
      "Limite inferior: -2240.7999999999997\n",
      "Limite superior: 3871.2799999999997\n",
      "Quantidade de registros sem outliers: 83736\n"
     ]
    },
    {
     "data": {
      "text/plain": [
       "<Axes: title={'center': 'VALOR_ARRECADADO'}, xlabel='[ANO]'>"
      ]
     },
     "execution_count": 6,
     "metadata": {},
     "output_type": "execute_result"
    },
    {
     "data": {
      "image/png": "[encoded data removed]",
      "text/plain": [
       "<Figure size 1000x600 with 1 Axes>"
      ]
     },
     "metadata": {},
     "output_type": "display_data"
    }
   ],
   "source": [
    "# aplicação de IQR - interquartile range\n",
    "Q1 = dados_receitas['VALOR_ARRECADADO'].quantile(0.25)\n",
    "Q3 = dados_receitas['VALOR_ARRECADADO'].quantile(0.75)\n",
    "IQR = Q3 - Q1\n",
    "print(f'Q1: {Q1}')\n",
    "print(f'Q3: {Q3}')\n",
    "print(f'IQR: {IQR}')\n",
    "\n",
    "limite_inferior = Q1 - 1.5 * IQR\n",
    "limite_superior = Q3 + 1.5 * IQR\n",
    "print(f'Limite inferior: {limite_inferior}')\n",
    "print(f'Limite superior: {limite_superior}')\n",
    "\n",
    "df_sem_outliers = dados_receitas[(dados_receitas['VALOR_ARRECADADO'] >= limite_inferior) & (dados_receitas['VALOR_ARRECADADO'] <= limite_superior)]\n",
    "df_sem_outliers = df_sem_outliers[['ANO', 'VALOR_ARRECADADO']]\n",
    "print(f'Quantidade de registros sem outliers: {df_sem_outliers.shape[0]}')\n",
    "df_sem_outliers.boxplot(by='ANO', figsize=(10, 6))"
   ]
  },
  {
   "cell_type": "code",
   "execution_count": 7,
   "metadata": {},
   "outputs": [],
   "source": [
    "df_sem_outliers = dados_receitas[(dados_receitas['VALOR_ARRECADADO'] >= limite_inferior) & (dados_receitas['VALOR_ARRECADADO'] <= limite_superior)]"
   ]
  },
  {
   "cell_type": "code",
   "execution_count": 8,
   "metadata": {},
   "outputs": [],
   "source": [
    "df_receitas = df_sem_outliers.copy()"
   ]
  },
  {
   "cell_type": "code",
   "execution_count": 9,
   "metadata": {},
   "outputs": [],
   "source": [
    "df_receitas.drop(columns=['COD_RECEITA', 'COD_CONTRIBUINTE', 'FONTE_DADOS', 'ANO'], inplace=True)"
   ]
  },
  {
   "cell_type": "code",
   "execution_count": 10,
   "metadata": {},
   "outputs": [
    {
     "data": {
      "text/html": [
       "<div>\n",
       "<style scoped>\n",
       "    .dataframe tbody tr th:only-of-type {\n",
       "        vertical-align: middle;\n",
       "    }\n",
       "\n",
       "    .dataframe tbody tr th {\n",
       "        vertical-align: top;\n",
       "    }\n",
       "\n",
       "    .dataframe thead th {\n",
       "        text-align: right;\n",
       "    }\n",
       "</style>\n",
       "<table border=\"1\" class=\"dataframe\">\n",
       "  <thead>\n",
       "    <tr style=\"text-align: right;\">\n",
       "      <th></th>\n",
       "      <th>DATA</th>\n",
       "      <th>VALOR_ARRECADADO</th>\n",
       "      <th>SMA(12)</th>\n",
       "      <th>SMA(6)</th>\n",
       "      <th>SMA(3)</th>\n",
       "      <th>SMA(2)</th>\n",
       "    </tr>\n",
       "  </thead>\n",
       "  <tbody>\n",
       "    <tr>\n",
       "      <th>8</th>\n",
       "      <td>2013-01-04</td>\n",
       "      <td>-1616.36</td>\n",
       "      <td>NaN</td>\n",
       "      <td>NaN</td>\n",
       "      <td>NaN</td>\n",
       "      <td>NaN</td>\n",
       "    </tr>\n",
       "    <tr>\n",
       "      <th>10</th>\n",
       "      <td>2013-01-08</td>\n",
       "      <td>-2107.30</td>\n",
       "      <td>NaN</td>\n",
       "      <td>NaN</td>\n",
       "      <td>NaN</td>\n",
       "      <td>-1861.830</td>\n",
       "    </tr>\n",
       "    <tr>\n",
       "      <th>18</th>\n",
       "      <td>2013-01-31</td>\n",
       "      <td>2075.64</td>\n",
       "      <td>NaN</td>\n",
       "      <td>NaN</td>\n",
       "      <td>-549.340000</td>\n",
       "      <td>-15.830</td>\n",
       "    </tr>\n",
       "    <tr>\n",
       "      <th>19</th>\n",
       "      <td>2013-01-03</td>\n",
       "      <td>111.96</td>\n",
       "      <td>NaN</td>\n",
       "      <td>NaN</td>\n",
       "      <td>26.766667</td>\n",
       "      <td>1093.800</td>\n",
       "    </tr>\n",
       "    <tr>\n",
       "      <th>20</th>\n",
       "      <td>2013-01-07</td>\n",
       "      <td>57.17</td>\n",
       "      <td>NaN</td>\n",
       "      <td>NaN</td>\n",
       "      <td>748.256667</td>\n",
       "      <td>84.565</td>\n",
       "    </tr>\n",
       "  </tbody>\n",
       "</table>\n",
       "</div>"
      ],
      "text/plain": [
       "         DATA  VALOR_ARRECADADO  SMA(12)  SMA(6)      SMA(3)    SMA(2)\n",
       "8  2013-01-04          -1616.36      NaN     NaN         NaN       NaN\n",
       "10 2013-01-08          -2107.30      NaN     NaN         NaN -1861.830\n",
       "18 2013-01-31           2075.64      NaN     NaN -549.340000   -15.830\n",
       "19 2013-01-03            111.96      NaN     NaN   26.766667  1093.800\n",
       "20 2013-01-07             57.17      NaN     NaN  748.256667    84.565"
      ]
     },
     "execution_count": 10,
     "metadata": {},
     "output_type": "execute_result"
    }
   ],
   "source": [
    "df_receitas['SMA(12)'] = df_receitas['VALOR_ARRECADADO'].rolling(window=12).mean()\n",
    "df_receitas['SMA(6)'] = df_receitas['VALOR_ARRECADADO'].rolling(window=6).mean()\n",
    "df_receitas['SMA(3)'] = df_receitas['VALOR_ARRECADADO'].rolling(window=3).mean()\n",
    "df_receitas['SMA(2)'] = df_receitas['VALOR_ARRECADADO'].rolling(window=2).mean()\n",
    "df_receitas.head()"
   ]
  },
  {
   "cell_type": "code",
   "execution_count": 11,
   "metadata": {},
   "outputs": [
    {
     "data": {
      "text/html": [
       "<div>\n",
       "<style scoped>\n",
       "    .dataframe tbody tr th:only-of-type {\n",
       "        vertical-align: middle;\n",
       "    }\n",
       "\n",
       "    .dataframe tbody tr th {\n",
       "        vertical-align: top;\n",
       "    }\n",
       "\n",
       "    .dataframe thead th {\n",
       "        text-align: right;\n",
       "    }\n",
       "</style>\n",
       "<table border=\"1\" class=\"dataframe\">\n",
       "  <thead>\n",
       "    <tr style=\"text-align: right;\">\n",
       "      <th></th>\n",
       "      <th>DATA</th>\n",
       "      <th>VALOR_ARRECADADO</th>\n",
       "      <th>SMA(12)</th>\n",
       "      <th>SMA(6)</th>\n",
       "      <th>SMA(3)</th>\n",
       "      <th>SMA(2)</th>\n",
       "      <th>lag(12)</th>\n",
       "      <th>lag(6)</th>\n",
       "      <th>lag(4)</th>\n",
       "      <th>lag(3)</th>\n",
       "      <th>lag(2)</th>\n",
       "      <th>lag(1)</th>\n",
       "    </tr>\n",
       "  </thead>\n",
       "  <tbody>\n",
       "    <tr>\n",
       "      <th>8</th>\n",
       "      <td>2013-01-04</td>\n",
       "      <td>-1616.36</td>\n",
       "      <td>NaN</td>\n",
       "      <td>NaN</td>\n",
       "      <td>NaN</td>\n",
       "      <td>NaN</td>\n",
       "      <td>NaN</td>\n",
       "      <td>NaN</td>\n",
       "      <td>NaN</td>\n",
       "      <td>NaN</td>\n",
       "      <td>NaN</td>\n",
       "      <td>NaN</td>\n",
       "    </tr>\n",
       "    <tr>\n",
       "      <th>10</th>\n",
       "      <td>2013-01-08</td>\n",
       "      <td>-2107.30</td>\n",
       "      <td>NaN</td>\n",
       "      <td>NaN</td>\n",
       "      <td>NaN</td>\n",
       "      <td>-1861.830</td>\n",
       "      <td>NaN</td>\n",
       "      <td>NaN</td>\n",
       "      <td>NaN</td>\n",
       "      <td>NaN</td>\n",
       "      <td>NaN</td>\n",
       "      <td>-1616.36</td>\n",
       "    </tr>\n",
       "    <tr>\n",
       "      <th>18</th>\n",
       "      <td>2013-01-31</td>\n",
       "      <td>2075.64</td>\n",
       "      <td>NaN</td>\n",
       "      <td>NaN</td>\n",
       "      <td>-549.340000</td>\n",
       "      <td>-15.830</td>\n",
       "      <td>NaN</td>\n",
       "      <td>NaN</td>\n",
       "      <td>NaN</td>\n",
       "      <td>NaN</td>\n",
       "      <td>-1616.36</td>\n",
       "      <td>-2107.30</td>\n",
       "    </tr>\n",
       "    <tr>\n",
       "      <th>19</th>\n",
       "      <td>2013-01-03</td>\n",
       "      <td>111.96</td>\n",
       "      <td>NaN</td>\n",
       "      <td>NaN</td>\n",
       "      <td>26.766667</td>\n",
       "      <td>1093.800</td>\n",
       "      <td>NaN</td>\n",
       "      <td>NaN</td>\n",
       "      <td>NaN</td>\n",
       "      <td>-1616.36</td>\n",
       "      <td>-2107.30</td>\n",
       "      <td>2075.64</td>\n",
       "    </tr>\n",
       "    <tr>\n",
       "      <th>20</th>\n",
       "      <td>2013-01-07</td>\n",
       "      <td>57.17</td>\n",
       "      <td>NaN</td>\n",
       "      <td>NaN</td>\n",
       "      <td>748.256667</td>\n",
       "      <td>84.565</td>\n",
       "      <td>NaN</td>\n",
       "      <td>NaN</td>\n",
       "      <td>-1616.36</td>\n",
       "      <td>-2107.30</td>\n",
       "      <td>2075.64</td>\n",
       "      <td>111.96</td>\n",
       "    </tr>\n",
       "  </tbody>\n",
       "</table>\n",
       "</div>"
      ],
      "text/plain": [
       "         DATA  VALOR_ARRECADADO  SMA(12)  SMA(6)      SMA(3)    SMA(2)  \\\n",
       "8  2013-01-04          -1616.36      NaN     NaN         NaN       NaN   \n",
       "10 2013-01-08          -2107.30      NaN     NaN         NaN -1861.830   \n",
       "18 2013-01-31           2075.64      NaN     NaN -549.340000   -15.830   \n",
       "19 2013-01-03            111.96      NaN     NaN   26.766667  1093.800   \n",
       "20 2013-01-07             57.17      NaN     NaN  748.256667    84.565   \n",
       "\n",
       "    lag(12)  lag(6)   lag(4)   lag(3)   lag(2)   lag(1)  \n",
       "8       NaN     NaN      NaN      NaN      NaN      NaN  \n",
       "10      NaN     NaN      NaN      NaN      NaN -1616.36  \n",
       "18      NaN     NaN      NaN      NaN -1616.36 -2107.30  \n",
       "19      NaN     NaN      NaN -1616.36 -2107.30  2075.64  \n",
       "20      NaN     NaN -1616.36 -2107.30  2075.64   111.96  "
      ]
     },
     "execution_count": 11,
     "metadata": {},
     "output_type": "execute_result"
    }
   ],
   "source": [
    "df_receitas['lag(12)'] = df_receitas['VALOR_ARRECADADO'].shift(12)\n",
    "df_receitas['lag(6)'] = df_receitas['VALOR_ARRECADADO'].shift(6)\n",
    "df_receitas['lag(4)'] = df_receitas['VALOR_ARRECADADO'].shift(4)\n",
    "df_receitas['lag(3)'] = df_receitas['VALOR_ARRECADADO'].shift(3)\n",
    "df_receitas['lag(2)'] = df_receitas['VALOR_ARRECADADO'].shift(2)\n",
    "df_receitas['lag(1)'] = df_receitas['VALOR_ARRECADADO'].shift(1)\n",
    "df_receitas.head()"
   ]
  },
  {
   "cell_type": "code",
   "execution_count": 12,
   "metadata": {},
   "outputs": [
    {
     "data": {
      "text/html": [
       "<div>\n",
       "<style scoped>\n",
       "    .dataframe tbody tr th:only-of-type {\n",
       "        vertical-align: middle;\n",
       "    }\n",
       "\n",
       "    .dataframe tbody tr th {\n",
       "        vertical-align: top;\n",
       "    }\n",
       "\n",
       "    .dataframe thead th {\n",
       "        text-align: right;\n",
       "    }\n",
       "</style>\n",
       "<table border=\"1\" class=\"dataframe\">\n",
       "  <thead>\n",
       "    <tr style=\"text-align: right;\">\n",
       "      <th></th>\n",
       "      <th>DATA</th>\n",
       "      <th>VALOR_ARRECADADO</th>\n",
       "      <th>SMA(12)</th>\n",
       "      <th>SMA(6)</th>\n",
       "      <th>SMA(3)</th>\n",
       "      <th>SMA(2)</th>\n",
       "      <th>lag(12)</th>\n",
       "      <th>lag(6)</th>\n",
       "      <th>lag(4)</th>\n",
       "      <th>lag(3)</th>\n",
       "      <th>lag(2)</th>\n",
       "      <th>lag(1)</th>\n",
       "    </tr>\n",
       "  </thead>\n",
       "  <tbody>\n",
       "    <tr>\n",
       "      <th>29</th>\n",
       "      <td>2013-01-18</td>\n",
       "      <td>1034.25</td>\n",
       "      <td>512.357500</td>\n",
       "      <td>983.083333</td>\n",
       "      <td>1510.706667</td>\n",
       "      <td>1189.280</td>\n",
       "      <td>-1616.36</td>\n",
       "      <td>107.32</td>\n",
       "      <td>1224.76</td>\n",
       "      <td>136.62</td>\n",
       "      <td>2153.56</td>\n",
       "      <td>1344.31</td>\n",
       "    </tr>\n",
       "    <tr>\n",
       "      <th>30</th>\n",
       "      <td>2013-01-21</td>\n",
       "      <td>1548.27</td>\n",
       "      <td>816.988333</td>\n",
       "      <td>1240.295000</td>\n",
       "      <td>1308.943333</td>\n",
       "      <td>1291.260</td>\n",
       "      <td>-2107.30</td>\n",
       "      <td>5.00</td>\n",
       "      <td>136.62</td>\n",
       "      <td>2153.56</td>\n",
       "      <td>1344.31</td>\n",
       "      <td>1034.25</td>\n",
       "    </tr>\n",
       "    <tr>\n",
       "      <th>31</th>\n",
       "      <td>2013-01-22</td>\n",
       "      <td>3212.34</td>\n",
       "      <td>911.713333</td>\n",
       "      <td>1571.558333</td>\n",
       "      <td>1931.620000</td>\n",
       "      <td>2380.305</td>\n",
       "      <td>2075.64</td>\n",
       "      <td>1224.76</td>\n",
       "      <td>2153.56</td>\n",
       "      <td>1344.31</td>\n",
       "      <td>1034.25</td>\n",
       "      <td>1548.27</td>\n",
       "    </tr>\n",
       "    <tr>\n",
       "      <th>33</th>\n",
       "      <td>2013-01-25</td>\n",
       "      <td>1366.81</td>\n",
       "      <td>1016.284167</td>\n",
       "      <td>1776.590000</td>\n",
       "      <td>2042.473333</td>\n",
       "      <td>2289.575</td>\n",
       "      <td>111.96</td>\n",
       "      <td>136.62</td>\n",
       "      <td>1344.31</td>\n",
       "      <td>1034.25</td>\n",
       "      <td>1548.27</td>\n",
       "      <td>3212.34</td>\n",
       "    </tr>\n",
       "    <tr>\n",
       "      <th>34</th>\n",
       "      <td>2013-01-28</td>\n",
       "      <td>5.05</td>\n",
       "      <td>1011.940833</td>\n",
       "      <td>1418.505000</td>\n",
       "      <td>1528.066667</td>\n",
       "      <td>685.930</td>\n",
       "      <td>57.17</td>\n",
       "      <td>2153.56</td>\n",
       "      <td>1034.25</td>\n",
       "      <td>1548.27</td>\n",
       "      <td>3212.34</td>\n",
       "      <td>1366.81</td>\n",
       "    </tr>\n",
       "  </tbody>\n",
       "</table>\n",
       "</div>"
      ],
      "text/plain": [
       "         DATA  VALOR_ARRECADADO      SMA(12)       SMA(6)       SMA(3)  \\\n",
       "29 2013-01-18           1034.25   512.357500   983.083333  1510.706667   \n",
       "30 2013-01-21           1548.27   816.988333  1240.295000  1308.943333   \n",
       "31 2013-01-22           3212.34   911.713333  1571.558333  1931.620000   \n",
       "33 2013-01-25           1366.81  1016.284167  1776.590000  2042.473333   \n",
       "34 2013-01-28              5.05  1011.940833  1418.505000  1528.066667   \n",
       "\n",
       "      SMA(2)  lag(12)   lag(6)   lag(4)   lag(3)   lag(2)   lag(1)  \n",
       "29  1189.280 -1616.36   107.32  1224.76   136.62  2153.56  1344.31  \n",
       "30  1291.260 -2107.30     5.00   136.62  2153.56  1344.31  1034.25  \n",
       "31  2380.305  2075.64  1224.76  2153.56  1344.31  1034.25  1548.27  \n",
       "33  2289.575   111.96   136.62  1344.31  1034.25  1548.27  3212.34  \n",
       "34   685.930    57.17  2153.56  1034.25  1548.27  3212.34  1366.81  "
      ]
     },
     "execution_count": 12,
     "metadata": {},
     "output_type": "execute_result"
    }
   ],
   "source": [
    "df_receitas.dropna(inplace=True)\n",
    "df_receitas.head()"
   ]
  },
  {
   "cell_type": "code",
   "execution_count": 13,
   "metadata": {},
   "outputs": [],
   "source": [
    "df_receitas['DATA'] = pd.to_datetime(df_receitas['DATA'])\n",
    "df_receitas['DATA'] = df_receitas['DATA'].map(dt.datetime.toordinal)"
   ]
  },
  {
   "cell_type": "markdown",
   "metadata": {},
   "source": [
    "# Aplicação do modelo a base de dados"
   ]
  },
  {
   "cell_type": "code",
   "execution_count": 14,
   "metadata": {},
   "outputs": [],
   "source": [
    "def prediction(model):\n",
    "    y_pred = model.predict(X)\n",
    "    y_pred = scaler_y.inverse_transform(y_pred)\n",
    "    return y_pred"
   ]
  },
  {
   "cell_type": "code",
   "execution_count": 15,
   "metadata": {},
   "outputs": [],
   "source": [
    "def plot_future(prediction, y, tipo):\n",
    "    plt.figure(figsize=(10,6))\n",
    "    range_future = len(prediction)\n",
    "    plt.plot(np.arange(range_future), np.array(y), label='Dados reais')\n",
    "    plt.plot(np.arange(range_future), np.array(prediction),label='Previsão')\n",
    "    plt.legend(loc='upper left')\n",
    "    plt.xlabel('Mês')\n",
    "    plt.ylabel('Valor Arrecadado')\n",
    "    plt.title('Predição de Receitas - LSTM')\n",
    "    plt.savefig(f'fig_pred_{tipo}.png')\n",
    "    plt.show()"
   ]
  },
  {
   "cell_type": "code",
   "execution_count": 16,
   "metadata": {},
   "outputs": [],
   "source": [
    "scaler_x = MinMaxScaler(feature_range=(0,1))\n",
    "scaler_y = MinMaxScaler(feature_range=(0,1))"
   ]
  },
  {
   "cell_type": "markdown",
   "metadata": {},
   "source": [
    "## Receitas"
   ]
  },
  {
   "cell_type": "code",
   "execution_count": 17,
   "metadata": {},
   "outputs": [],
   "source": [
    "X = df_receitas.drop(['VALOR_ARRECADADO'], axis=1)\n",
    "y = df_receitas.loc[:, ['VALOR_ARRECADADO']]"
   ]
  },
  {
   "cell_type": "code",
   "execution_count": 18,
   "metadata": {},
   "outputs": [],
   "source": [
    "input_scaler = scaler_x.fit(X)\n",
    "output_scaler = scaler_y.fit(y)"
   ]
  },
  {
   "cell_type": "code",
   "execution_count": 19,
   "metadata": {},
   "outputs": [],
   "source": [
    "y_norm = output_scaler.transform(y)\n",
    "X_norm = input_scaler.transform(X)"
   ]
  },
  {
   "cell_type": "code",
   "execution_count": 20,
   "metadata": {},
   "outputs": [],
   "source": [
    "X = X_norm.reshape((X_norm.shape[0], 1, X_norm.shape[1]))\n",
    "y = y_norm.reshape((y_norm.shape[0], 1))"
   ]
  },
  {
   "cell_type": "code",
   "execution_count": 21,
   "metadata": {},
   "outputs": [],
   "source": [
    "y = scaler_y.inverse_transform(y)"
   ]
  },
  {
   "cell_type": "code",
   "execution_count": 22,
   "metadata": {},
   "outputs": [
    {
     "name": "stdout",
     "output_type": "stream",
     "text": [
      "2617/2617 [==============================] - 17s 6ms/step\n"
     ]
    }
   ],
   "source": [
    "prediction_lstm = prediction(model_lstm)"
   ]
  },
  {
   "cell_type": "code",
   "execution_count": 23,
   "metadata": {},
   "outputs": [
    {
     "data": {
      "image/png": "[encoded data removed]",
      "text/plain": [
       "<Figure size 1000x600 with 1 Axes>"
      ]
     },
     "metadata": {},
     "output_type": "display_data"
    }
   ],
   "source": [
    "plot_future(prediction_lstm, y, 'receitas_2013_2022')"
   ]
  },
  {
   "cell_type": "markdown",
   "metadata": {},
   "source": [
    "Cálculo do erro médio percentual:"
   ]
  },
  {
   "cell_type": "code",
   "execution_count": 24,
   "metadata": {},
   "outputs": [],
   "source": [
    "real = y.flatten()\n",
    "previsto = prediction_lstm.flatten()"
   ]
  },
  {
   "cell_type": "code",
   "execution_count": 25,
   "metadata": {},
   "outputs": [
    {
     "name": "stdout",
     "output_type": "stream",
     "text": [
      "Erro médio percentual: 1.38%\n"
     ]
    }
   ],
   "source": [
    "tabela = pd.DataFrame([real, previsto]).T\n",
    "tabela = tabela.rename(columns={0: 'Real', 1: 'Previsto'})\n",
    "tabela['Diferenca'] = 1 - (tabela['Real'] / tabela['Previsto'])\n",
    "media_tabela = tabela['Diferenca'].mean()\n",
    "print(f'Erro médio percentual: {media_tabela:.2f}%')"
   ]
  },
  {
   "cell_type": "code",
   "execution_count": null,
   "metadata": {},
   "outputs": [],
   "source": []
  }
 ],
 "metadata": {
  "kernelspec": {
   "display_name": "Python 3",
   "language": "python",
   "name": "python3"
  },
  "language_info": {
   "codemirror_mode": {
    "name": "ipython",
    "version": 3
   },
   "file_extension": ".py",
   "mimetype": "text/x-python",
   "name": "python",
   "nbconvert_exporter": "python",
   "pygments_lexer": "ipython3",
   "version": "3.11.4"
  },
  "orig_nbformat": 4
 },
 "nbformat": 4,
 "nbformat_minor": 2
}
